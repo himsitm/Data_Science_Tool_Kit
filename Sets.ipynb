{
 "cells": [
  {
   "cell_type": "code",
   "execution_count": 2,
   "metadata": {},
   "outputs": [
    {
     "name": "stdout",
     "output_type": "stream",
     "text": [
      "['A', 'A', 'B', 'C', 'C', 'E', 'N']\n"
     ]
    }
   ],
   "source": [
    "students_list = ['A','A','B','C','C','E','N']\n",
    "print(students_list)"
   ]
  },
  {
   "cell_type": "code",
   "execution_count": 3,
   "metadata": {},
   "outputs": [
    {
     "name": "stdout",
     "output_type": "stream",
     "text": [
      "{'N', 'E', 'A', 'B', 'C'}\n"
     ]
    }
   ],
   "source": [
    "students_set = set(students_list)\n",
    "print(students_set)\n"
   ]
  },
  {
   "cell_type": "code",
   "execution_count": 4,
   "metadata": {},
   "outputs": [
    {
     "name": "stdout",
     "output_type": "stream",
     "text": [
      "<class 'set'>\n"
     ]
    }
   ],
   "source": [
    "print(type(students_set))\n"
   ]
  },
  {
   "cell_type": "code",
   "execution_count": 5,
   "metadata": {},
   "outputs": [],
   "source": [
    "students_list_2 = ['A','N','F','N','G','A']\n"
   ]
  },
  {
   "cell_type": "code",
   "execution_count": 6,
   "metadata": {},
   "outputs": [
    {
     "name": "stdout",
     "output_type": "stream",
     "text": [
      "{'N', 'G', 'A', 'F'}\n"
     ]
    }
   ],
   "source": [
    "students_set_2 = set(students_list_2)\n",
    "print(students_set_2)"
   ]
  },
  {
   "cell_type": "code",
   "execution_count": 8,
   "metadata": {},
   "outputs": [
    {
     "name": "stdout",
     "output_type": "stream",
     "text": [
      "{'N', 'G', 'A', 'F'}\n",
      "{'N', 'E', 'A', 'B', 'C'}\n",
      "{'N', 'A'}\n"
     ]
    }
   ],
   "source": [
    "print(students_set_2)\n",
    "print(students_set)\n",
    "print(students_set.intersection(students_set_2))"
   ]
  },
  {
   "cell_type": "code",
   "execution_count": 9,
   "metadata": {},
   "outputs": [
    {
     "name": "stdout",
     "output_type": "stream",
     "text": [
      "{'N', 'G', 'A', 'F'}\n",
      "{'N', 'E', 'A', 'B', 'C'}\n",
      "{'N', 'E', 'A', 'B', 'F', 'G', 'C'}\n"
     ]
    }
   ],
   "source": [
    "print(students_set_2)\n",
    "print(students_set)\n",
    "print(students_set.union(students_set_2))"
   ]
  },
  {
   "cell_type": "code",
   "execution_count": 10,
   "metadata": {},
   "outputs": [
    {
     "name": "stdout",
     "output_type": "stream",
     "text": [
      "{'N', 'G', 'A', 'F'}\n",
      "{'N', 'E', 'A', 'B', 'C'}\n",
      "{'E', 'B', 'C'}\n"
     ]
    }
   ],
   "source": [
    "print(students_set_2)\n",
    "print(students_set)\n",
    "print(students_set.difference(students_set_2))"
   ]
  },
  {
   "cell_type": "code",
   "execution_count": 17,
   "metadata": {},
   "outputs": [
    {
     "name": "stdout",
     "output_type": "stream",
     "text": [
      "{1}\n",
      "{1, 4, 5}\n",
      "{2}\n"
     ]
    }
   ],
   "source": [
    "input_list = [[1,2,3],[2,3,4,5],[3,1,4]]\n",
    "list_1 = input_list[0]\n",
    "list_2 = input_list[1]\n",
    "list_3 = input_list[2]\n",
    "\n",
    "set_1 = set(list_1)#Type your answer here\n",
    "set_2 = set(list_2)\n",
    "set_3 = set(list_3)#Type your answer here\n",
    "answer_1 = set_1.difference(set_2)#Type your answer here\n",
    "answer_2 = set_1.symmetric_difference(set_2)\n",
    "answer_3 = set_1.difference(set_3)#Type your answer here\n",
    "\n",
    "print(answer_1)\n",
    "print(answer_2)\n",
    "print(answer_3)"
   ]
  },
  {
   "cell_type": "code",
   "execution_count": 12,
   "metadata": {},
   "outputs": [
    {
     "name": "stdout",
     "output_type": "stream",
     "text": [
      "4\n"
     ]
    }
   ],
   "source": [
    "nums = set([1,1,2,3,3,3,4])\n",
    "print(len(nums))"
   ]
  },
  {
   "cell_type": "code",
   "execution_count": 60,
   "metadata": {},
   "outputs": [
    {
     "name": "stdout",
     "output_type": "stream",
     "text": [
      "{2, 5, 9, 12, 13, 15}\n",
      "[16, 12, 15]\n",
      "[2, 5, 9, 13]\n",
      "{16}\n",
      "{2, 5, 9, 13, 16}\n",
      "[1, 2, 4, 5, 6, 7, 9, 10, 11, 12, 13, 15, 16, 17, 18, 19]\n",
      "{8, 3, 20, 14}\n",
      "[12, 15, 16]\n"
     ]
    }
   ],
   "source": [
    "input_list = [[2, 5, 9, 12, 13, 15, 16, 17, 18, 19],[2, 4, 5, 6, 7, 9, 13, 16],[1, 2, 5, 9, 10, 11, 12, 13, 15]]\n",
    "list_1 = input_list[0]\n",
    "list_2 = input_list[1]\n",
    "list_3 = input_list[2]\n",
    "\n",
    "set_1 = set(list_1)#Type your answer here\n",
    "set_2 = set(list_2)\n",
    "set_3 = set(list_3)#Type your answer here\n",
    "answer_1 = set_1.union(set_2.union(set_2))\n",
    "answer_1 = set_1&set_2&set_3#Type your answer here\n",
    "answer_2 = set_1&set_2 - set_3\n",
    "answer_3 = (set_1&set_2)#Type your answer here\n",
    "print(set_1&set_3)\n",
    "print(list((set_1&set_3)^(set_1&set_2)))\n",
    "print(sorted(answer_1))\n",
    "print(answer_2)\n",
    "print(answer_3)\n",
    "print(sorted(set_1|set_2|set_3))\n",
    "playing = sorted(set_1|set_2|set_3)\n",
    "not_playing = set(range(1,21))-set(playing)\n",
    "print(not_playing)\n",
    "print(sorted(list(((set_1 & set_2) | (set_2 & set_3) | (set_1 & set_3)) - (set_1 & set_2 & set_3))))\n"
   ]
  },
  {
   "cell_type": "code",
   "execution_count": null,
   "metadata": {},
   "outputs": [],
   "source": []
  }
 ],
 "metadata": {
  "anaconda-cloud": {},
  "kernelspec": {
   "display_name": "Python 3",
   "language": "python",
   "name": "python3"
  },
  "language_info": {
   "codemirror_mode": {
    "name": "ipython",
    "version": 3
   },
   "file_extension": ".py",
   "mimetype": "text/x-python",
   "name": "python",
   "nbconvert_exporter": "python",
   "pygments_lexer": "ipython3",
   "version": "3.8.5"
  }
 },
 "nbformat": 4,
 "nbformat_minor": 1
}
